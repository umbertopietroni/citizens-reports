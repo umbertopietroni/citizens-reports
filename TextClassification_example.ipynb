{
 "cells": [
  {
   "cell_type": "code",
   "execution_count": 17,
   "metadata": {},
   "outputs": [
    {
     "data": {
      "text/html": [
       "<div>\n",
       "<style scoped>\n",
       "    .dataframe tbody tr th:only-of-type {\n",
       "        vertical-align: middle;\n",
       "    }\n",
       "\n",
       "    .dataframe tbody tr th {\n",
       "        vertical-align: top;\n",
       "    }\n",
       "\n",
       "    .dataframe thead th {\n",
       "        text-align: right;\n",
       "    }\n",
       "</style>\n",
       "<table border=\"1\" class=\"dataframe\">\n",
       "  <thead>\n",
       "    <tr style=\"text-align: right;\">\n",
       "      <th></th>\n",
       "      <th>text</th>\n",
       "      <th>class</th>\n",
       "    </tr>\n",
       "  </thead>\n",
       "  <tbody>\n",
       "    <tr>\n",
       "      <th>0</th>\n",
       "      <td>sole mare caldo</td>\n",
       "      <td>estate</td>\n",
       "    </tr>\n",
       "    <tr>\n",
       "      <th>1</th>\n",
       "      <td>mare acqua</td>\n",
       "      <td>estate</td>\n",
       "    </tr>\n",
       "    <tr>\n",
       "      <th>2</th>\n",
       "      <td>freddo neve coperte</td>\n",
       "      <td>inverno</td>\n",
       "    </tr>\n",
       "    <tr>\n",
       "      <th>3</th>\n",
       "      <td>ghiaccio neve</td>\n",
       "      <td>inverno</td>\n",
       "    </tr>\n",
       "    <tr>\n",
       "      <th>4</th>\n",
       "      <td>foglie marrone vendemmia</td>\n",
       "      <td>autunno</td>\n",
       "    </tr>\n",
       "    <tr>\n",
       "      <th>5</th>\n",
       "      <td>fiori caldo picnic</td>\n",
       "      <td>primavera</td>\n",
       "    </tr>\n",
       "  </tbody>\n",
       "</table>\n",
       "</div>"
      ],
      "text/plain": [
       "                       text      class\n",
       "0           sole mare caldo     estate\n",
       "1                mare acqua     estate\n",
       "2       freddo neve coperte    inverno\n",
       "3             ghiaccio neve    inverno\n",
       "4  foglie marrone vendemmia    autunno\n",
       "5        fiori caldo picnic  primavera"
      ]
     },
     "execution_count": 17,
     "metadata": {},
     "output_type": "execute_result"
    }
   ],
   "source": [
    "import pandas as pd\n",
    "import numpy as np\n",
    "from sklearn.feature_extraction.text import CountVectorizer\n",
    "from sklearn.naive_bayes import MultinomialNB\n",
    "from io import StringIO\n",
    "\n",
    "dataset = StringIO(\"\"\"text,class\n",
    "\"sole mare caldo\",\"estate\"\n",
    "\"mare acqua\",\"estate\"\n",
    "\"freddo neve coperte\",\"inverno\"\n",
    "\"ghiaccio neve\",\"inverno\"\n",
    "\"foglie marrone vendemmia\",\"autunno\"\n",
    "\"fiori caldo picnic\",\"primavera\"\n",
    "\"\"\")\n",
    "data = pd.read_csv(dataset, sep=\",\")\n",
    "data"
   ]
  },
  {
   "cell_type": "code",
   "execution_count": 18,
   "metadata": {},
   "outputs": [
    {
     "data": {
      "text/plain": [
       "(6, 2)"
      ]
     },
     "execution_count": 18,
     "metadata": {},
     "output_type": "execute_result"
    }
   ],
   "source": [
    "data.shape"
   ]
  },
  {
   "cell_type": "code",
   "execution_count": 19,
   "metadata": {},
   "outputs": [],
   "source": [
    "X = data[\"text\"]\n",
    "y = data[\"class\"]"
   ]
  },
  {
   "cell_type": "code",
   "execution_count": 20,
   "metadata": {},
   "outputs": [
    {
     "data": {
      "text/plain": [
       "['autunno', 'estate', 'inverno', 'primavera']"
      ]
     },
     "execution_count": 20,
     "metadata": {},
     "output_type": "execute_result"
    }
   ],
   "source": [
    "# lista delle classi ordinata in ordine alfabetico\n",
    "ordered_class_list = list(set(y))\n",
    "ordered_class_list.sort()\n",
    "ordered_class_list"
   ]
  },
  {
   "cell_type": "code",
   "execution_count": 24,
   "metadata": {},
   "outputs": [
    {
     "name": "stdout",
     "output_type": "stream",
     "text": [
      "VECTOR TOKENS\n"
     ]
    },
    {
     "data": {
      "text/plain": [
       "['acqua',\n",
       " 'caldo',\n",
       " 'coperte',\n",
       " 'fiori',\n",
       " 'foglie',\n",
       " 'freddo',\n",
       " 'ghiaccio',\n",
       " 'mare',\n",
       " 'marrone',\n",
       " 'neve',\n",
       " 'picnic',\n",
       " 'sole',\n",
       " 'vendemmia']"
      ]
     },
     "execution_count": 24,
     "metadata": {},
     "output_type": "execute_result"
    }
   ],
   "source": [
    "print (\"VECTOR TOKENS\")\n",
    "vectorizer_train.get_feature_names()"
   ]
  },
  {
   "cell_type": "code",
   "execution_count": 25,
   "metadata": {},
   "outputs": [
    {
     "data": {
      "text/plain": [
       "array([[0, 1, 0, 0, 0, 0, 0, 1, 0, 0, 0, 1, 0],\n",
       "       [1, 0, 0, 0, 0, 0, 0, 1, 0, 0, 0, 0, 0],\n",
       "       [0, 0, 1, 0, 0, 1, 0, 0, 0, 1, 0, 0, 0],\n",
       "       [0, 0, 0, 0, 0, 0, 1, 0, 0, 1, 0, 0, 0],\n",
       "       [0, 0, 0, 0, 1, 0, 0, 0, 1, 0, 0, 0, 1],\n",
       "       [0, 1, 0, 1, 0, 0, 0, 0, 0, 0, 1, 0, 0]])"
      ]
     },
     "execution_count": 25,
     "metadata": {},
     "output_type": "execute_result"
    }
   ],
   "source": [
    "# convert X to vectorized text\n",
    "# each train set instance is transformed in a binary array\n",
    "# which has '1' in the n-th position if the instance contains\n",
    "# the tolens vector n-th word \n",
    "# i.e. the 1st instance \"sole mare caldo\" has been represented like \n",
    "# [0, 1, 0, 0, 0, 0, 0, 1, 0, 0, 0, 1, 0] binary array\n",
    "# because it cont\n",
    "vectorizer_train = CountVectorizer(min_df=0)\n",
    "vectorizer_train.fit(X)\n",
    "x_train_array = vectorizer_train.transform(X).toarray()\n",
    "x_train_array"
   ]
  },
  {
   "cell_type": "code",
   "execution_count": 22,
   "metadata": {},
   "outputs": [
    {
     "name": "stdout",
     "output_type": "stream",
     "text": [
      "VECTOR TOKENS\n"
     ]
    },
    {
     "data": {
      "text/plain": [
       "['acqua',\n",
       " 'caldo',\n",
       " 'coperte',\n",
       " 'fiori',\n",
       " 'foglie',\n",
       " 'freddo',\n",
       " 'ghiaccio',\n",
       " 'mare',\n",
       " 'marrone',\n",
       " 'neve',\n",
       " 'picnic',\n",
       " 'sole',\n",
       " 'vendemmia']"
      ]
     },
     "execution_count": 22,
     "metadata": {},
     "output_type": "execute_result"
    }
   ],
   "source": []
  },
  {
   "cell_type": "code",
   "execution_count": 23,
   "metadata": {},
   "outputs": [],
   "source": [
    "# train the classifier using the vectorized representation of data set\n",
    "clf = MultinomialNB().fit(x_train_array, y)"
   ]
  },
  {
   "cell_type": "code",
   "execution_count": null,
   "metadata": {},
   "outputs": [],
   "source": []
  }
 ],
 "metadata": {
  "kernelspec": {
   "display_name": "Python 3",
   "language": "python",
   "name": "python3"
  },
  "language_info": {
   "codemirror_mode": {
    "name": "ipython",
    "version": 3
   },
   "file_extension": ".py",
   "mimetype": "text/x-python",
   "name": "python",
   "nbconvert_exporter": "python",
   "pygments_lexer": "ipython3",
   "version": "3.5.2"
  }
 },
 "nbformat": 4,
 "nbformat_minor": 2
}
